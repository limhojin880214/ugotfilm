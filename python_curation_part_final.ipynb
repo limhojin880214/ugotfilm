{
 "cells": [
  {
   "cell_type": "code",
   "execution_count": null,
   "id": "9657e86a",
   "metadata": {},
   "outputs": [
    {
     "name": "stdout",
     "output_type": "stream",
     "text": [
      " * Serving Flask app \"__main__\" (lazy loading)\n",
      " * Environment: production\n",
      "\u001b[31m   WARNING: This is a development server. Do not use it in a production deployment.\u001b[0m\n",
      "\u001b[2m   Use a production WSGI server instead.\u001b[0m\n",
      " * Debug mode: off\n"
     ]
    },
    {
     "name": "stderr",
     "output_type": "stream",
     "text": [
      " * Running on http://127.0.0.1:5000/ (Press CTRL+C to quit)\n"
     ]
    }
   ],
   "source": [
    "# flask api 사용을 위한 import\n",
    "from flask import Flask, render_template, request\n",
    "import sys\n",
    "import cx_Oracle\n",
    "import os\n",
    "import pandas as pd\n",
    "\n",
    "# flask 호출\n",
    "app = Flask(__name__)\n",
    "\n",
    "# flask 호출 방식 설정 (GET, POST 방식 둘다 가능하게끔 설정)\n",
    "@app.route(\"/curation\",  methods=['GET', 'POST'])\n",
    "def index(): \n",
    "    if request.method == \"POST\":\n",
    "        usercode = request.form[\"usercode\"]\n",
    "        res = curation(usercode)        \n",
    "        return res\n",
    "    elif request.method == \"GET\":    \n",
    "        usercode = request.args.get('usercode')\n",
    "        res = curation(usercode)        \n",
    "        return res\n",
    "\n",
    "# DB 접속을 위한 함수 설정 및 시스템 설정\n",
    "def curation(usercode):\n",
    "    # Oracle 접속\n",
    "    LOCATION = r\"C:\\oraclexe\"\n",
    "    os.environ[\"PATH\"] = LOCATION + \";\" + os.environ[\"PATH\"] #환경변수 등록\n",
    "    \n",
    "    # Oracle 접속을 위한 설정\n",
    "    dsn=cx_Oracle.makedsn('localhost',1521,'xe')\n",
    "    conn=cx_Oracle.connect('hr','a1234')\n",
    "    \n",
    "    cursor=conn.cursor()\n",
    "    \n",
    "    # Pandas 이용한 Oracle에서 사용할 정보 가져오기\n",
    "    # 유저코드를 이용한 영화 관련 정보 데이터를 가져오기\n",
    "    df=pd.read_sql('select usercode, moviecode, count(*) as count from ugotfilm_movie_choice where choice_date < sysdate -2/24 group by usercode, moviecode order by usercode', con=conn)\n",
    "    \n",
    "    # 유저 코드 설정\n",
    "    user= int(usercode)\n",
    "    \n",
    "    # pivot을 사용한 컬럼 및 데이터 설정\n",
    "    recommendation_pivot = df.pivot(index='USERCODE', columns='MOVIECODE', values='COUNT')\n",
    "    # null값을 0으로 설정\n",
    "    recommendation_pivot.fillna(0, inplace=True)\n",
    "    \n",
    "    # 비교군을 위한 함수 생성\n",
    "    \n",
    "    # 접속한 유저에 대한 영화 정보 관련 함수 설정\n",
    "    def movie_seen(user_id):\n",
    "      return recommendation_pivot.loc[user_id][recommendation_pivot.loc[user_id]>0]\n",
    "    \n",
    "    # 접속한 유저와 비슷한 유저를 찾기 위한 함수 설정\n",
    "    def nearest_user(user_id, n):\n",
    "      return small_test_corr.loc[user_id].sort_values(ascending=False)[1:n+1]\n",
    "    \n",
    "    # 로그인 한 유저의 선택한 영화 정보와 db에 저장된 회원의 선택 영화 정보를 비교\n",
    "    # 상관관계 표시\n",
    "    small_test = recommendation_pivot.T\n",
    "    small_test_corr = small_test.corr()\n",
    "    \n",
    "    small_test_corr[user].sort_values(ascending=False)[1:11]\n",
    "    res = nearest_user(user,1)\n",
    "    \n",
    "    # 로그인 한 유저의 정보와 비교하여 상관관계가 가장 높은 유저 코드 찾기\n",
    "    # 유저코드를 찾은 후 로그인 한 유저에게 없는 영화 정보의 id값을 추출\n",
    "    unseen = set(movie_seen(res.index[0]).index) - set(movie_seen(user).index)\n",
    "    return str(unseen) \n",
    "\n",
    "if __name__ == \"__main__\":\n",
    "    app.run()"
   ]
  },
  {
   "cell_type": "code",
   "execution_count": null,
   "id": "c5ac98f9",
   "metadata": {},
   "outputs": [],
   "source": []
  }
 ],
 "metadata": {
  "kernelspec": {
   "display_name": "Python 3 (ipykernel)",
   "language": "python",
   "name": "python3"
  },
  "language_info": {
   "codemirror_mode": {
    "name": "ipython",
    "version": 3
   },
   "file_extension": ".py",
   "mimetype": "text/x-python",
   "name": "python",
   "nbconvert_exporter": "python",
   "pygments_lexer": "ipython3",
   "version": "3.9.13"
  }
 },
 "nbformat": 4,
 "nbformat_minor": 5
}
